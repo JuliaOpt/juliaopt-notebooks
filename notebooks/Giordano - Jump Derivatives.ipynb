{
 "metadata": {
  "language": "Julia",
  "name": "",
  "signature": "sha256:125be4b2eb449d50f28581cf1e6082be30dbe3917e7762f95c8fad3aa98a99eb"
 },
 "nbformat": 3,
 "nbformat_minor": 0,
 "worksheets": [
  {
   "cells": [
    {
     "cell_type": "markdown",
     "metadata": {},
     "source": [
      "**Description** This notebook provides a simple example of how to get gradients and Hessians out of a JuMP model.\n",
      "\n",
      "**Author:** [Ryan Giordano](https://github.com/rgiordan)\n",
      "\n",
      "**License:**\n",
      "This work is licensed under a <a rel=\"license\" href=\"http://creativecommons.org/licenses/by-sa/4.0/\">Creative Commons Attribution-ShareAlike 4.0 International License</a>.\n",
      "\n",
      "\n",
      "JuMP Derivatives Examples\n",
      "=========================\n",
      "\n",
      "We set up a simple JuMP model and get its gradient and Hessian.\n"
     ]
    },
    {
     "cell_type": "code",
     "collapsed": false,
     "input": [
      "using JuMP\n",
      "import MathProgBase"
     ],
     "language": "python",
     "metadata": {},
     "outputs": [],
     "prompt_number": 1
    },
    {
     "cell_type": "markdown",
     "metadata": {},
     "source": [
      "First, we define a model.  We will use a simple model so that we can see that JuMP is giving us the correct gradients and hessian.\n",
      "\n",
      "$$\n",
      "p = (x_1, x_2, y_1, y_2)^T \\\\\n",
      "z = x_1 y_1 + x_1^2 + x_2 y_2 + x_2^2\\\\\n",
      "\\frac{\\partial z}{\\partial p} =\n",
      "\\left(\n",
      "\\begin{array}{c}\n",
      "y_1 + 2x_1 \\\\ \n",
      "y_2 + 2x_2 \\\\\n",
      "x_1 \\\\\n",
      "x_2 \\\\\n",
      "\\end{array}\n",
      "\\right)\\\\\n",
      "\\frac{\\partial^2 z}{\\partial p \\partial p^T} = \\left[ \n",
      "\\begin{array}{cccc}\n",
      "2 & 0 & 1 & 0 \\\\\n",
      "0 & 2 & 0 & 1 \\\\\n",
      "1 & 0 & 0 & 0 \\\\\n",
      "0 & 1 & 0 & 0 \\\\\n",
      "\\end{array}\n",
      "\\right]\n",
      "$$"
     ]
    },
    {
     "cell_type": "code",
     "collapsed": false,
     "input": [
      "m = Model();\n",
      "@defVar(m, x[1:2]);\n",
      "@defVar(m, y[1:2]);\n",
      "\n",
      "@defNLExpr(z, sum{x[i] * y[i] + x[i]^2, i=1:2});\n",
      "\n",
      "@setNLObjective(m, Max, z);"
     ],
     "language": "python",
     "metadata": {},
     "outputs": [],
     "prompt_number": 2
    },
    {
     "cell_type": "markdown",
     "metadata": {},
     "source": [
      "We can set the values of $p$ like so.  The values of the parameter are contained in `m.colVal`, so here `this_par` just contains the values that we set manually.  The print statement illustrates a few ways of getting the values out of a model.  Note that the `col` attribute of a variable has its index in `m.colVal`."
     ]
    },
    {
     "cell_type": "code",
     "collapsed": false,
     "input": [
      "setValue(x[1], 1);\n",
      "setValue(x[2], 2);\n",
      "setValue(y[1], 3);\n",
      "setValue(y[2], 4);\n",
      "\n",
      "this_par = m.colVal;\n",
      "\n",
      "println(\"x[1] == \", this_par[x[1].col], \" == \", getValue(x[1]), \" == 1.0\")\n"
     ],
     "language": "python",
     "metadata": {},
     "outputs": [
      {
       "output_type": "stream",
       "stream": "stdout",
       "text": [
        "x[1] == 1"
       ]
      },
      {
       "output_type": "stream",
       "stream": "stdout",
       "text": [
        ".0 == 1.0 == 1.0\n"
       ]
      }
     ],
     "prompt_number": 3
    },
    {
     "cell_type": "markdown",
     "metadata": {},
     "source": [
      "Now we evaluate the model using `MathProgBase`.  In this example, we are only using `JuMP` for its derivatives and don't have any constraints, but we still pass constraint information to calls to `MathProgBase`."
     ]
    },
    {
     "cell_type": "code",
     "collapsed": false,
     "input": [
      "m_const_mat = JuMP.prepConstrMatrix(m);\n",
      "m_eval = JuMP.JuMPNLPEvaluator(m, m_const_mat);\n",
      "MathProgBase.initialize(m_eval, [:ExprGraph, :Grad, :Hess]);"
     ],
     "language": "python",
     "metadata": {},
     "outputs": [],
     "prompt_number": 4
    },
    {
     "cell_type": "markdown",
     "metadata": {},
     "source": [
      "This is how we can get the value of the function:"
     ]
    },
    {
     "cell_type": "code",
     "collapsed": false,
     "input": [
      "f_value = MathProgBase.eval_f(m_eval, this_par)\n",
      "println(\"f(p) == \", f_value, \" == \", 1 * 3 + 1 ^2 + 2 * 4 + 2^2)"
     ],
     "language": "python",
     "metadata": {},
     "outputs": [
      {
       "output_type": "stream",
       "stream": "stdout",
       "text": [
        "f(p) == "
       ]
      },
      {
       "output_type": "stream",
       "stream": "stdout",
       "text": [
        "16.0 == 16\n"
       ]
      }
     ],
     "prompt_number": 5
    },
    {
     "cell_type": "markdown",
     "metadata": {},
     "source": [
      "This is how we can get the gradient.  `g` is updated in place."
     ]
    },
    {
     "cell_type": "code",
     "collapsed": false,
     "input": [
      "\n",
      "g = fill(0., 4)\n",
      "MathProgBase.eval_grad_f(m_eval, g, this_par)\n",
      "\n",
      "println(\"grad wrt x[1] == \", g[x[1].col], \" == \", 3 + 2 * 1)\n",
      "println(\"grad wrt x[2] == \", g[x[2].col], \" == \", 4 + 2 * 2)\n",
      "println(\"grad wrt y[1] == \", g[y[1].col], \" == \", 1)\n",
      "println(\"grad wrt y[2] == \", g[y[2].col], \" == \", 2)"
     ],
     "language": "python",
     "metadata": {},
     "outputs": [
      {
       "output_type": "stream",
       "stream": "stdout",
       "text": [
        "grad wrt x[1] == 5.0 == 5\n",
        "grad wrt x[2] == 8.0 == 8\n",
        "grad wrt y[1] == 1.0 == 1\n",
        "grad wrt y[2] == 2.0 == 2\n"
       ]
      }
     ],
     "prompt_number": 6
    },
    {
     "cell_type": "markdown",
     "metadata": {},
     "source": [
      "Finally, this is how we can get the hessian. First, we need to set up some values describing the Hessian structure that can be used over and over again.  `hess_struct` has the sparsity structure, and `hess_vec` is a variable that can be updated in place to contain the Hessian values. The number of constraints is `0`, but we include the code to extract the number of constraints from the model as an example."
     ]
    },
    {
     "cell_type": "code",
     "collapsed": false,
     "input": [
      "hess_struct = MathProgBase.hesslag_structure(m_eval)\n",
      "hess_vec = zeros(length(hess_struct[1]))\n",
      "numconstr = length(m_eval.m.linconstr) + length(m_eval.m.quadconstr) + length(m_eval.m.nlpdata.nlconstr)"
     ],
     "language": "python",
     "metadata": {},
     "outputs": [
      {
       "metadata": {},
       "output_type": "pyout",
       "prompt_number": 7,
       "text": [
        "0"
       ]
      }
     ],
     "prompt_number": 7
    },
    {
     "cell_type": "markdown",
     "metadata": {},
     "source": [
      "The function `eval_hesslag` returns the Hessian of both the objective (which we want) and the constraints (which we don't).  The third argument, `1.0`, is a multiplier in front of the objective, and the last argument, `zeros(numconstr)`, is a multiplier in front of the constraints.  In this case there are no constraints present, but we include it for completeness.\n",
      "\n",
      "Note that `eval_hesslag` only returns the lower triangular portion of the symmetric Hessian."
     ]
    },
    {
     "cell_type": "code",
     "collapsed": false,
     "input": [
      "dimension = length(m.colVal)\n",
      "MathProgBase.eval_hesslag(m_eval, hess_vec, this_par, 1.0, zeros(numconstr))\n",
      "this_hess_ld = sparse(hess_struct[1], hess_struct[2], hess_vec, dimension, dimension)\n",
      "println(full(this_hess_ld))"
     ],
     "language": "python",
     "metadata": {},
     "outputs": [
      {
       "output_type": "stream",
       "stream": "stdout",
       "text": [
        "["
       ]
      },
      {
       "output_type": "stream",
       "stream": "stdout",
       "text": [
        "2.0 0.0 0.0 0.0\n",
        " 0.0 2.0 0.0 0.0\n",
        " 1.0 0.0 0.0 0.0\n",
        " 0.0 1.0 0.0 0.0]\n"
       ]
      }
     ],
     "prompt_number": 8
    },
    {
     "cell_type": "markdown",
     "metadata": {},
     "source": [
      "Finally, the complete Hessian can be constructed by adding the transpose and subtracting the double-counted diagonal."
     ]
    },
    {
     "cell_type": "code",
     "collapsed": false,
     "input": [
      "this_hess = this_hess_ld + this_hess_ld' - sparse(diagm(diag(this_hess_ld)));\n",
      "println(full(this_hess))"
     ],
     "language": "python",
     "metadata": {},
     "outputs": [
      {
       "output_type": "stream",
       "stream": "stdout",
       "text": [
        "["
       ]
      },
      {
       "output_type": "stream",
       "stream": "stdout",
       "text": [
        "2.0 0.0 1.0 0.0\n",
        " 0.0 2.0 0.0 1.0\n",
        " 1.0 0.0 0.0 0.0\n",
        " 0.0 1.0 0.0 0.0]\n"
       ]
      }
     ],
     "prompt_number": 9
    }
   ],
   "metadata": {}
  }
 ]
}
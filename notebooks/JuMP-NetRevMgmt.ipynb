{
 "cells": [
  {
   "cell_type": "markdown",
   "metadata": {},
   "source": [
    "**Description**: Shows how to solve a network revenue management problem using JuMP.\n",
    "\n",
    "**Author**: Iain Dunning\n",
    "\n",
    "**License**: <a rel=\"license\" href=\"http://creativecommons.org/licenses/by-sa/4.0/\"><img alt=\"Creative Commons License\" style=\"border-width:0\" src=\"https://i.creativecommons.org/l/by-sa/4.0/88x31.png\" /></a><br />This work is licensed under a <a rel=\"license\" href=\"http://creativecommons.org/licenses/by-sa/4.0/\">Creative Commons Attribution-ShareAlike 4.0 International License</a>."
   ]
  },
  {
   "cell_type": "markdown",
   "metadata": {},
   "source": [
    "# Airline Network Revenue Management\n",
    "\n",
    "<img style=\"max-width:100%; width:500px; height:auto\" src=\"http://i.imgur.com/jeGwWET.png\">\n",
    "\n",
    "In the airline network revenue management problem we are trying to decide how many tickets for each origin-destination (O-D) pair to sell at each price level. The goal is to maximize revenue, and we cannot sell more tickets than there is demand for, or space on the planes for.\n",
    "\n",
    "## Three Flight Problem\n",
    "\n",
    "We'll start with a toy problem that has three origin-destination pairs, with two price classes for each pair. The three origin-destination pairs are BOS-MDW, MDW-SFO, or BOS-SFO via MDW. BOS stands for Boston, MDW is Chicago-Midway, and SFO is San Francisco. Each O-D pair has a \"regular\" and \"discount\" fare class. The data we will use is summarized as follows:\n",
    "\n",
    "```\n",
    "PLANE CAPACITY: 166\n",
    "\n",
    "BOS-MDW\n",
    "        Regular  Discount\n",
    "Price:  428      190\n",
    "Demand: 80       120\n",
    "\n",
    "BOS-SFO\n",
    "        Regular  Discount\n",
    "Price:  642      224\n",
    "Demand: 75       100\n",
    "\n",
    "MDW-SFO\n",
    "        Regular  Discount\n",
    "Price:  512      190\n",
    "Demand: 60       110\n",
    "```"
   ]
  },
  {
   "cell_type": "code",
   "execution_count": null,
   "metadata": {
    "collapsed": false
   },
   "outputs": [],
   "source": [
    "# First we need to load the JuMP package\n",
    "using JuMP"
   ]
  },
  {
   "cell_type": "markdown",
   "metadata": {},
   "source": [
    "### Model\n",
    "Now we need to create a `Model`. A `Model` is an object that has associated variables and constraints. We can also pick and customize different solvers to use with the model. In this case we'll assume you a LP solver installed - JuMP will detect it and use it automatically."
   ]
  },
  {
   "cell_type": "code",
   "execution_count": null,
   "metadata": {
    "collapsed": false
   },
   "outputs": [],
   "source": [
    "nrm = Model()"
   ]
  },
  {
   "cell_type": "markdown",
   "metadata": {},
   "source": [
    "We can see that JuMP displays the model in a human-readable form.\n",
    "\n",
    "### Variables\n",
    "Now we can create our variables, in the optimization sense. Variables have a name, bounds, and type. For this problem, we need six continuous variables, each with a lower and upper bound on their value.\n",
    "\n",
    "Here we will spell out each variable one-by-one - rest assured that later we will do something smarter that will scale to millions of variables!"
   ]
  },
  {
   "cell_type": "code",
   "execution_count": null,
   "metadata": {
    "collapsed": false
   },
   "outputs": [],
   "source": [
    "@defVar(nrm, 0 <= BOStoMDW_R <= 80)\n",
    "@defVar(nrm, 0 <= BOStoMDW_D <= 120)\n",
    "@defVar(nrm, 0 <= BOStoSFO_R <= 75)\n",
    "@defVar(nrm, 0 <= BOStoSFO_D <= 100)\n",
    "@defVar(nrm, 0 <= MDWtoSFO_R <= 60)\n",
    "@defVar(nrm, 0 <= MDWtoSFO_D <= 110)\n",
    "nrm"
   ]
  },
  {
   "cell_type": "markdown",
   "metadata": {},
   "source": [
    "Great, now we are getting somewhere!\n",
    "\n",
    "### Objective\n",
    "The objective is to maximize the revenue. We set the objective with `@setObjective`, which takes three arguments: the model, the sense (`Max` or `Min`), and the expression."
   ]
  },
  {
   "cell_type": "code",
   "execution_count": null,
   "metadata": {
    "collapsed": false
   },
   "outputs": [],
   "source": [
    "@setObjective(nrm, Max, 428*BOStoMDW_R + 190*BOStoMDW_D +\n",
    "                        642*BOStoSFO_R + 224*BOStoSFO_D +\n",
    "                        512*MDWtoSFO_R + 190*MDWtoSFO_D)\n",
    "nrm"
   ]
  },
  {
   "cell_type": "markdown",
   "metadata": {},
   "source": [
    "### Constraints\n",
    "We have only two constraints, one per physical flight: that the number of people on each flight is less than the capacity of the planes. \n",
    "\n",
    "We add constraints with `@addConstraint`, which takes two arguments: the model, and an expression with an inequality in it: `<=`, `==`, `>=`.\n",
    "\n",
    "(note that there are other forms of `@addConstraint` that can be useful sometimes - see the manual or other examples for details)"
   ]
  },
  {
   "cell_type": "code",
   "execution_count": null,
   "metadata": {
    "collapsed": false
   },
   "outputs": [],
   "source": [
    "@addConstraint(nrm, BOStoMDW_R + BOStoMDW_D + \n",
    "                    BOStoSFO_R + BOStoSFO_D <= 166)\n",
    "@addConstraint(nrm, MDWtoSFO_R + MDWtoSFO_D + \n",
    "                    BOStoSFO_R + BOStoSFO_D <= 166)\n",
    "nrm"
   ]
  },
  {
   "cell_type": "markdown",
   "metadata": {},
   "source": [
    "Our model is complete!\n",
    "\n",
    "## Solve\n",
    "The easy part! Lets check out the finished model before solving it. We didn't specify a solver before, but JuMP knows we have an LP solver installed, so it will use that."
   ]
  },
  {
   "cell_type": "code",
   "execution_count": null,
   "metadata": {
    "collapsed": false
   },
   "outputs": [],
   "source": [
    "status = solve(nrm)\n",
    "status  # Should be `:Optimal`"
   ]
  },
  {
   "cell_type": "markdown",
   "metadata": {},
   "source": [
    "## Inspect the solution\n",
    "We can use `getValue()` to inspect the value of solutions"
   ]
  },
  {
   "cell_type": "code",
   "execution_count": null,
   "metadata": {
    "collapsed": false
   },
   "outputs": [],
   "source": [
    "getValue(BOStoMDW_R)"
   ]
  },
  {
   "cell_type": "code",
   "execution_count": null,
   "metadata": {
    "collapsed": false
   },
   "outputs": [],
   "source": [
    "getValue(BOStoMDW_D)"
   ]
  },
  {
   "cell_type": "code",
   "execution_count": null,
   "metadata": {
    "collapsed": false
   },
   "outputs": [],
   "source": [
    "getObjectiveValue(nrm)"
   ]
  },
  {
   "cell_type": "markdown",
   "metadata": {},
   "source": [
    "## General Model\n",
    "\n",
    "We'll now code our model in a more general way, to take any number of cities and flights. Hard-coding every variable would be painful and hard to update - it'd be better to *index* the variables, just like in mathematical notation. \n",
    "\n",
    "Consider a generalized version of our first problem, where there are flights in both directions and one extra airport YYZ - Toronto!\n",
    "\n",
    "Rather than hardcode data, we will generate some random data.\n",
    "\n",
    "*(If you don't understand all of this right away, thats OK - its not critical to understanding JuMP)*"
   ]
  },
  {
   "cell_type": "code",
   "execution_count": null,
   "metadata": {
    "collapsed": false
   },
   "outputs": [],
   "source": [
    "# Set the random seed to ensure we always\n",
    "# get the same stream of 'random' numbers\n",
    "srand(1988)  \n",
    "\n",
    "# Lets create a vector of symbols, one for each airport\n",
    "airports = [:BOS, :MDW, :SFO, :YYZ]\n",
    "num_airport = length(airports)\n",
    "\n",
    "# We'll also create a vector of fare classes\n",
    "classes = [:REG, :DIS]\n",
    "\n",
    "# All the demand and price data for each triple of\n",
    "# (origin, destination, class) will be stored in\n",
    "# 'dictionaries', also known as 'maps'.\n",
    "demand = Dict()\n",
    "prices = Dict()\n",
    "\n",
    "# Generate a demand and price for each pair of airports\n",
    "# To keep the code simple we will generate info for\n",
    "# nonsense flights like BOS-BOS and SFO-SFO, but they\n",
    "# won't appear in our final model.\n",
    "for origin in airports, dest in airports\n",
    "    # Generate demand:\n",
    "    #  - Regular demand is Uniform(50,90)\n",
    "    #  - Discount demand is Uniform(100,130)\n",
    "    demand[(origin,dest,:REG)] = rand(50:90)    \n",
    "    demand[(origin,dest,:DIS)] = rand(100:130)\n",
    "    # Generate prices:\n",
    "    #  - Regular price is Uniform(400,700)\n",
    "    #  - Discount price is Uniform(150,300)\n",
    "    prices[(origin,dest,:REG)] = rand(400:700)\n",
    "    prices[(origin,dest,:DIS)] = rand(150:300)\n",
    "end\n",
    "\n",
    "# Finally set all places to have the same capacity\n",
    "plane_cap = rand(150:200)\n",
    "\n",
    "# Lets look at a sample demand at random\n",
    "@show demand[(:BOS,:YYZ,:REG)]"
   ]
  },
  {
   "cell_type": "markdown",
   "metadata": {},
   "source": [
    "Now we have the data, we can build the model."
   ]
  },
  {
   "cell_type": "code",
   "execution_count": null,
   "metadata": {
    "collapsed": false
   },
   "outputs": [],
   "source": [
    "nrm2 = Model()\n",
    "# Create a variable indexed by 3 things:\n",
    "# * Origin\n",
    "# * Destination\n",
    "# * Class\n",
    "# And set the upper bound for each variable differently.\n",
    "# The origins and destinations should be indexed across\n",
    "# the vector of airports, and the class should be indexed\n",
    "# across the vector of classes.\n",
    "# We'll draw the upper bounds from the demand dictionary.\n",
    "@defVar(nrm2, 0 <= x[o=airports,\n",
    "                     d=airports,\n",
    "                     c=classes] <= demand[(o,d,c)])\n",
    "# Note that we don't have to split it up across multiple lines,\n",
    "# its personal preference!"
   ]
  },
  {
   "cell_type": "markdown",
   "metadata": {},
   "source": [
    "JuMP displays the variable in a compact form - note that the upper bound is\n",
    "blank because the upper bound is different for each variable."
   ]
  },
  {
   "cell_type": "code",
   "execution_count": null,
   "metadata": {
    "collapsed": false
   },
   "outputs": [],
   "source": [
    "# The objective is just like before, except now we can use\n",
    "# the sum{} functionality provided by JuMP to sum over all\n",
    "# combinations of origin/destination/class, and provide a\n",
    "# filter (after the semicolon ;) to exclude all cases where\n",
    "# the origin is equal to the destination\n",
    "@setObjective(nrm2, Max, sum{prices[(o,d,c)]*x[o,d,c], \n",
    "    o in airports, d in airports, c in classes; o != d})"
   ]
  },
  {
   "cell_type": "code",
   "execution_count": null,
   "metadata": {
    "collapsed": false
   },
   "outputs": [],
   "source": [
    "# Next we'll add constraints on flights from the hub\n",
    "# to any of the non-hub airports.\n",
    "for d in airports\n",
    "    if d == :MDW\n",
    "        continue\n",
    "    end\n",
    "    println(\"Adding constraint for hub (MDW) to $d\")\n",
    "    @addConstraint(nrm2, \n",
    "        sum{x[o,d,c], o in airports, c in classes; o!=d} <= plane_cap)\n",
    "end\n",
    "nrm2"
   ]
  },
  {
   "cell_type": "code",
   "execution_count": null,
   "metadata": {
    "collapsed": false
   },
   "outputs": [],
   "source": [
    "# Now flights into the hub\n",
    "for o in airports\n",
    "    if o == :MDW\n",
    "        continue\n",
    "    end\n",
    "    println(\"Adding constraint for $o to hub (MDW)\")\n",
    "    @addConstraint(nrm2, \n",
    "        sum{x[o,d,c], d in airports, c in classes; o!=d} <= plane_cap)\n",
    "end\n",
    "nrm2"
   ]
  },
  {
   "cell_type": "code",
   "execution_count": null,
   "metadata": {
    "collapsed": false
   },
   "outputs": [],
   "source": [
    "# Now just need to solve it\n",
    "solve(nrm2)"
   ]
  },
  {
   "cell_type": "code",
   "execution_count": null,
   "metadata": {
    "collapsed": false
   },
   "outputs": [],
   "source": [
    "getValue(x)"
   ]
  }
 ],
 "metadata": {
  "kernelspec": {
   "display_name": "Julia 0.3.11",
   "language": "julia",
   "name": "julia-0.3"
  },
  "language_info": {
   "file_extension": ".jl",
   "mimetype": "application/julia",
   "name": "julia",
   "version": "0.3.11"
  }
 },
 "nbformat": 4,
 "nbformat_minor": 0
}
